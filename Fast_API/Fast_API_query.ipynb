{
 "cells": [
  {
   "cell_type": "code",
   "execution_count": 18,
   "id": "64dccb13",
   "metadata": {},
   "outputs": [
    {
     "name": "stdout",
     "output_type": "stream",
     "text": [
      "200\n",
      "{'message': 'CSV files processed successfully', 'Number_of_Rows': 10, 'Totoal_token': 1198, 'Processing_Cost': 0.003594, 'cleaned_data': {'Date': ['01-05-2023', '02-05-2023', '03-05-2023', '04-05-2023', '05-05-2023', '06-05-2023', '07-05-2023', '08-05-2023', '09-05-2023', '10-05-2023'], 'EmployeeName': ['John Doe', 'Jane Smith', 'Michael Brown', 'Alice Johnson', 'Bob Wilson', 'Carol Martinez', 'David Anderson', 'Eva Thomas', 'Frank Jackson', 'Grace White'], 'Plan': ['Gold', 'Silver', 'Bronze', 'Gold', 'Silver', 'Bronze', 'Gold', 'Silver', 'Bronze', 'Gold'], 'PolicyNumber': ['AB12345', 'CD67890', 'EF10111', 'GH12121', 'IJ13131', 'KL14141', 'MN15151', 'OP16161', 'QR17171', 'ST18181'], 'Premium': [150, 100, 50, 150, 100, 50, 150, 100, 50, 150]}}\n"
     ]
    }
   ],
   "source": [
    "import requests\n",
    "\n",
    "url = \"http://127.0.0.1:9009/analyze/\"  # Replace with the correct URL\n",
    "api_key = \"sk-EkqK*********************T0zU3\"  # Replace with your API key\n",
    "files = {\n",
    "    'Raw_data': ('table_A.csv', open('./Data/table_A.csv', 'rb'), 'text/csv'),\n",
    "    'Target_data': ('template.csv', open('./Data/template.csv', 'rb'), 'text/csv')\n",
    "}\n",
    "\n",
    "headers = {\n",
    "    'accept': 'application/json',\n",
    "}\n",
    "\n",
    "params = {\n",
    "    'api_key': api_key,\n",
    "}\n",
    "\n",
    "response = requests.post(url, headers=headers, params=params, files=files)\n",
    "\n",
    "print(response.status_code)\n",
    "print(response.json())"
   ]
  },
  {
   "cell_type": "code",
   "execution_count": null,
   "id": "176cb0ec",
   "metadata": {},
   "outputs": [],
   "source": []
  }
 ],
 "metadata": {
  "kernelspec": {
   "display_name": "Python 3 (ipykernel)",
   "language": "python",
   "name": "python3"
  },
  "language_info": {
   "codemirror_mode": {
    "name": "ipython",
    "version": 3
   },
   "file_extension": ".py",
   "mimetype": "text/x-python",
   "name": "python",
   "nbconvert_exporter": "python",
   "pygments_lexer": "ipython3",
   "version": "3.9.12"
  }
 },
 "nbformat": 4,
 "nbformat_minor": 5
}
