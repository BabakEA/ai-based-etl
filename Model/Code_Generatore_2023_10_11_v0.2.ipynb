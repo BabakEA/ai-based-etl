{
 "cells": [
  {
   "cell_type": "code",
   "execution_count": 27,
   "id": "31d8632d",
   "metadata": {},
   "outputs": [],
   "source": [
    "import openai\n",
    "import pandas as pd\n",
    "import json\n",
    "import numpy as np\n",
    "import re\n"
   ]
  },
  {
   "cell_type": "code",
   "execution_count": 2,
   "id": "0d8b3340",
   "metadata": {},
   "outputs": [],
   "source": [
    "with open('./secret.json') as config_file:\n",
    "    config_data = json.load(config_file)\n",
    "    api_key = config_data.get(\"api_key\")"
   ]
  },
  {
   "cell_type": "raw",
   "id": "2713b930",
   "metadata": {},
   "source": [
    "secret.json\n",
    "{\n",
    "    \"api_key\": \"sk-************************************\",\n",
    "    \"Name\":\"Witcher\",\n",
    "    \"Organizer\":\"AIforest\"\n",
    "}"
   ]
  },
  {
   "cell_type": "code",
   "execution_count": 18,
   "id": "c01cb486",
   "metadata": {},
   "outputs": [],
   "source": [
    "Raw_df=pd.read_csv(\"../Data/table_A.csv\")\n",
    "Target_df=pd.read_csv(\"../Data/template.csv\")\n",
    "Raw_df_2=pd.read_csv(\"../Data/table_B.csv\")"
   ]
  },
  {
   "cell_type": "code",
   "execution_count": 24,
   "id": "2c7a0704",
   "metadata": {},
   "outputs": [],
   "source": [
    "def extract_function_signature(text):\n",
    "    pattern = r'def (\\w+)\\(([^)]+)\\):'\n",
    "    match = re.search(pattern, text)\n",
    "    \n",
    "    if match:\n",
    "        function_name = match.group(1)\n",
    "        variables = match.group(2)\n",
    "        return f\"Function Name: {function_name}, Variables: {variables}\"\n",
    "    else:\n",
    "        return \"Function signature not found\""
   ]
  },
  {
   "cell_type": "code",
   "execution_count": 32,
   "id": "b2fc7764",
   "metadata": {},
   "outputs": [],
   "source": [
    "def _Open_AI_ETL_Generator_(Raw_df:pd.DataFrame,Target_df:pd.DataFrame):\n",
    "    #### douplicat the excat same columns to reduce number tokens. \n",
    "    temp_df=Raw_df[:5].T\n",
    "    temp_df=temp_df.drop_duplicates().T\n",
    "    Columns=temp_df.columns.to_list()\n",
    "    #temp_df[Columns]\n",
    "    Raw_df=Raw_df[Columns]\n",
    "    ##### Instead of passing the entire target values, we send the sample to reduce the number of tokens. \n",
    "    ##### list(Target_df[:3].values\n",
    "\n",
    "\n",
    "    # Specify the prompt for GPT-3.5\n",
    "    prompt = f\"\"\" i have the following data,  data:\\n{Raw_df.values.tolist()}\\n\\n \n",
    "    and I want a python function that can remove the unwanted and doplicated columns and select the columns that are similar to the traget_data ,\n",
    "    target_data:\\n{Target_df[:3].values.tolist()}\\n\\n . \n",
    "    data in the selected columns may have extra characters, please remove them and format the data the same as target_data.\n",
    "    just retun the function ,\n",
    "    \"\"\"\n",
    "\n",
    "    # Send a completion request to GPT-3.5\n",
    "    response = openai.Completion.create(\n",
    "        engine=\"text-davinci-003\",  # You can specify the engine you prefer\n",
    "        #engine=\"curie\",\n",
    "        prompt=prompt,\n",
    "        max_tokens=3000,  # Adjust this based on the expected response length\n",
    "        api_key=api_key\n",
    "    )\n",
    "\n",
    "    # Extract the suggestions and reformatted dataset from the response\n",
    "    #suggestions_and_reformatted_data = response.choices[0].text\n",
    "    return response"
   ]
  },
  {
   "cell_type": "code",
   "execution_count": 33,
   "id": "3985966f",
   "metadata": {},
   "outputs": [],
   "source": [
    "response=_Open_AI_ETL_Generator_(Raw_df=Raw_df,Target_df=Target_df)"
   ]
  },
  {
   "cell_type": "code",
   "execution_count": 34,
   "id": "1a759b1a",
   "metadata": {},
   "outputs": [
    {
     "name": "stdout",
     "output_type": "stream",
     "text": [
      "\n",
      "def transformData(data):\n",
      "    target_data = [['01-05-2023', 'John Doe', 'Gold', 'AB12345', 150], ['02-05-2023', 'Jane Smith', 'Silver', 'CD67890', 100], ['03-05-2023', 'Michael Brown', 'Bronze', 'EF10111', 50]]\n",
      "    \n",
      "    result = []\n",
      "    for d in data:\n",
      "        date_str = d[0]\n",
      "        result_date = date_str[6:10] + '-' + date_str[3:5] + '-' + date_str[0:2]\n",
      "        name = d[1]\n",
      "        plan = d[2].split(\" \")[0]\n",
      "        id = d[3].split(\"-\")[1]\n",
      "        price = d[4]\n",
      "        new_row = [result_date, name, plan, id, price]\n",
      "        result.append(new_row)\n",
      "        \n",
      "    return result\n"
     ]
    }
   ],
   "source": [
    "print(response.choices[0].text)"
   ]
  },
  {
   "cell_type": "code",
   "execution_count": 35,
   "id": "c4dd0df1",
   "metadata": {},
   "outputs": [
    {
     "data": {
      "text/plain": [
       "'Function Name: transformData, Variables: data'"
      ]
     },
     "execution_count": 35,
     "metadata": {},
     "output_type": "execute_result"
    }
   ],
   "source": [
    "Functtion_Name= extract_function_signature(response.choices[0].text)\n",
    "Functtion_Name"
   ]
  },
  {
   "cell_type": "code",
   "execution_count": 37,
   "id": "f03ca12a",
   "metadata": {},
   "outputs": [],
   "source": [
    "exec(response.choices[0].text)"
   ]
  },
  {
   "cell_type": "code",
   "execution_count": 38,
   "id": "53c9543b",
   "metadata": {},
   "outputs": [
    {
     "data": {
      "text/plain": [
       "[['2023-01-05', 'John Doe', 'Gold', '12345', 150.0],\n",
       " ['2023-02-05', 'Jane Smith', 'Silver', '67890', 100.0],\n",
       " ['2023-03-05', 'Michael Brown', 'Bronze', '10111', 50.0],\n",
       " ['2023-04-05', 'Alice Johnson', 'Gold', '12121', 150.0],\n",
       " ['2023-05-05', 'Bob Wilson', 'Silver', '13131', 100.0],\n",
       " ['2023-06-05', 'Carol Martinez', 'Bronze', '14141', 50.0],\n",
       " ['2023-07-05', 'David Anderson', 'Gold', '15151', 150.0],\n",
       " ['2023-08-05', 'Eva Thomas', 'Silver', '16161', 100.0],\n",
       " ['2023-09-05', 'Frank Jackson', 'Bronze', '17171', 50.0],\n",
       " ['2023-10-05', 'Grace White', 'Gold', '18181', 150.0]]"
      ]
     },
     "execution_count": 38,
     "metadata": {},
     "output_type": "execute_result"
    }
   ],
   "source": [
    "transformData( Raw_df.values.tolist())"
   ]
  },
  {
   "cell_type": "code",
   "execution_count": null,
   "id": "97535bb9",
   "metadata": {},
   "outputs": [],
   "source": []
  },
  {
   "cell_type": "code",
   "execution_count": null,
   "id": "4726beae",
   "metadata": {},
   "outputs": [],
   "source": []
  },
  {
   "cell_type": "code",
   "execution_count": null,
   "id": "9425c7fb",
   "metadata": {},
   "outputs": [],
   "source": []
  }
 ],
 "metadata": {
  "kernelspec": {
   "display_name": "Python 3 (ipykernel)",
   "language": "python",
   "name": "python3"
  },
  "language_info": {
   "codemirror_mode": {
    "name": "ipython",
    "version": 3
   },
   "file_extension": ".py",
   "mimetype": "text/x-python",
   "name": "python",
   "nbconvert_exporter": "python",
   "pygments_lexer": "ipython3",
   "version": "3.9.12"
  }
 },
 "nbformat": 4,
 "nbformat_minor": 5
}
